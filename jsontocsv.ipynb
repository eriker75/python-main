{
 "cells": [
  {
   "cell_type": "code",
   "execution_count": 3,
   "metadata": {},
   "outputs": [
    {
     "data": {
      "text/plain": [
       "2"
      ]
     },
     "execution_count": 3,
     "metadata": {},
     "output_type": "execute_result"
    }
   ],
   "source": [
    "import csv\n",
    "import json\n",
    "\n",
    "csvfile = open('inforangerPartsDB.csv', 'r')\n",
    "jsonfile = open('inforangerPartsDB.json', 'w')\n",
    "\n",
    "fieldnames = (\"Model\",\"Subgroup\",\"Image\",\"ItemNum\",\"Part\",\"Description\",\"ReplacedPart\",\"Qty\",\"Notes\",\"Kits\")\n",
    "reader = csv.DictReader( csvfile, fieldnames)\n",
    "jsonfile.write('[')\n",
    "for row in reader:\n",
    "    json.dump(row, jsonfile)\n",
    "    jsonfile.write(',\\n')\n",
    "jsonfile.write('\\]')"
   ]
  },
  {
   "cell_type": "code",
   "execution_count": null,
   "metadata": {},
   "outputs": [],
   "source": []
  }
 ],
 "metadata": {
  "kernelspec": {
   "display_name": "Python 3",
   "language": "python",
   "name": "python3"
  },
  "language_info": {
   "codemirror_mode": {
    "name": "ipython",
    "version": 3
   },
   "file_extension": ".py",
   "mimetype": "text/x-python",
   "name": "python",
   "nbconvert_exporter": "python",
   "pygments_lexer": "ipython3",
   "version": "3.7.3"
  }
 },
 "nbformat": 4,
 "nbformat_minor": 2
}
